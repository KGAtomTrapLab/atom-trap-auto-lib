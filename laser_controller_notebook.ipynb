{
 "cells": [
  {
   "cell_type": "markdown",
   "metadata": {},
   "source": [
    "# Guide for setting up and using the lab automation library to control a laser controller"
   ]
  },
  {
   "cell_type": "markdown",
   "metadata": {},
   "source": [
    "### Setup Laser Controller\n",
    "* Use Python Kernal from virtual enviornment folder\n",
    "\n",
    "    * Ensure the virtual enviornment and dependencies are setup correctly (See README.md)\n",
    "\n",
    "1. Import Necessary Modules\n",
    "\n",
    "2. Create a **Device Manager**\n",
    "\n",
    "    * Device Manager Class allows you to specify the system path to the VISA Library. Not including a path should find one automaticly\n",
    "\n",
    "3. Search for available instruments and their addresses with Device Manager\n",
    "\n",
    "    * Instruments and addresses are setup from *Keysight Connection Expert*\n",
    "\n",
    "\n"
   ]
  },
  {
   "cell_type": "code",
   "execution_count": null,
   "metadata": {},
   "outputs": [],
   "source": [
    "import InstrumentController\n",
    "import LaserController\n",
    "\n",
    "# \"C:\\\\Windows\\\\System32\\\\visa32.dll\"\n",
    "\n",
    "device_manager = InstrumentController.DeviceManager(\"C:\\\\Windows\\\\System32\\\\visa32.dll\")\n",
    "\n",
    "print(device_manager.list_devices())"
   ]
  },
  {
   "cell_type": "markdown",
   "metadata": {},
   "source": [
    "### Connect to Laser Controller\n",
    "* Use the Laser Controller class to connect to the laser controller\n",
    "\n",
    "* Use correct address from found devices above\n",
    "\n",
    "    * Make sure you provide the correct address for the Laser Controller"
   ]
  },
  {
   "cell_type": "code",
   "execution_count": 6,
   "metadata": {},
   "outputs": [
    {
     "name": "stdout",
     "output_type": "stream",
     "text": [
      "Failed to connect to GPIOB0::2::INSTR: VI_ERROR_RSRC_NFOUND (-1073807343): Insufficient location information or the requested device or resource is not present in the system.\n",
      "Not connected\n"
     ]
    }
   ],
   "source": [
    "laser_controller_address = \"GPIOB0::2::INSTR\"\n",
    "\n",
    "laser_controller = LaserController.LaserController(device_manager, laser_controller_address)\n",
    "\n",
    "laser_controller.connect()\n",
    "\n",
    "print(laser_controller.status())\n"
   ]
  },
  {
   "cell_type": "markdown",
   "metadata": {},
   "source": [
    "### Manipulate Laser Controller\n",
    "\n",
    "#### The Following commands are avaiable for reading and controlling the Laser Controller\n",
    "\n",
    "* ```status()``` - Returns the status of the laser controller\n",
    "\n",
    "* ```get_current()``` - Returns the current of the laser controller in mA\n",
    "\n",
    "* ```set_current(current)``` - Sets the current of the laser controller in mA\n",
    "\n",
    "* ```raise_current(amount)``` - Raises the current of the laser controller by the specified amount in mA\n",
    "\n",
    "* ```lower_current(amount)``` - Lowers the current of the laser controller by the specified amount in mA\n",
    "\n",
    "* ```get_thm_res(resistance)``` - Returns the resistance of the laser controller in Ohms\n",
    "\n",
    "* ```set_thm_res(resistance)``` - Sets the resistance of the laser controller in Ohms\n",
    "\n",
    "\n"
   ]
  },
  {
   "cell_type": "code",
   "execution_count": null,
   "metadata": {},
   "outputs": [],
   "source": []
  }
 ],
 "metadata": {
  "kernelspec": {
   "display_name": "python_env",
   "language": "python",
   "name": "python3"
  },
  "language_info": {
   "codemirror_mode": {
    "name": "ipython",
    "version": 3
   },
   "file_extension": ".py",
   "mimetype": "text/x-python",
   "name": "python",
   "nbconvert_exporter": "python",
   "pygments_lexer": "ipython3",
   "version": "3.12.2"
  }
 },
 "nbformat": 4,
 "nbformat_minor": 2
}
