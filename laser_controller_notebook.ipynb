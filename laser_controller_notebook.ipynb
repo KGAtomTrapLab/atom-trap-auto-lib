{
 "cells": [
  {
   "cell_type": "markdown",
   "metadata": {},
   "source": [
    "# Setup Laser Controller\n",
    "* Use Python Kernal from included folder\n",
    "\n",
    "* Import Necessary Modules\n",
    "\n",
    "* Create a **Device Manager**\n",
    "\n",
    "    * Device Manager Class allows you to specify the system path to the VISA Library. Not including a path should find one automaticly\n",
    "\n",
    "* Search for available instruments and their addresses with Device Manager\n",
    "\n",
    "* Instruments and addresses are setup from *Keysight Connection Expert*\n",
    "\n",
    "\n"
   ]
  },
  {
   "cell_type": "code",
   "execution_count": 2,
   "metadata": {},
   "outputs": [
    {
     "name": "stdout",
     "output_type": "stream",
     "text": [
      "('ASRL3::INSTR', 'ASRL4::INSTR', 'ASRL5::INSTR', 'ASRL6::INSTR')\n"
     ]
    }
   ],
   "source": [
    "import InstrumentController\n",
    "import LaserController\n",
    "\n",
    "device_manager = InstrumentController.DeviceManager(\"C:\\\\WINDOWS\\\\system32\\\\visa32.dll\")\n",
    "\n",
    "print(device_manager.list_resources())"
   ]
  },
  {
   "cell_type": "markdown",
   "metadata": {},
   "source": [
    "### Connect to Laser Controller\n",
    "* Use the Laser Controller class to connect to the laser controller\n",
    "\n",
    "* Use correct address from found devices above\n",
    "\n",
    "    * Make sure you provide the correct address for the Laser Controller"
   ]
  },
  {
   "cell_type": "code",
   "execution_count": null,
   "metadata": {},
   "outputs": [],
   "source": [
    "laser_controller = LaserController.LaserController(device_manager, \"GPIOB0::8::INSTR\")\n",
    "\n",
    "laser_controller.connect()\n",
    "\n",
    "print(laser_controller.status())\n"
   ]
  },
  {
   "cell_type": "markdown",
   "metadata": {},
   "source": []
  }
 ],
 "metadata": {
  "kernelspec": {
   "display_name": "python_env",
   "language": "python",
   "name": "python3"
  },
  "language_info": {
   "codemirror_mode": {
    "name": "ipython",
    "version": 3
   },
   "file_extension": ".py",
   "mimetype": "text/x-python",
   "name": "python",
   "nbconvert_exporter": "python",
   "pygments_lexer": "ipython3",
   "version": "3.12.3"
  }
 },
 "nbformat": 4,
 "nbformat_minor": 2
}
